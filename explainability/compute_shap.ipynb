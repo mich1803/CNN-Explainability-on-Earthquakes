{
 "cells": [
  {
   "cell_type": "code",
   "execution_count": 1,
   "metadata": {},
   "outputs": [
    {
     "name": "stderr",
     "output_type": "stream",
     "text": [
      "c:\\Users\\miche\\OneDrive\\Desktop\\EQML Project\\CNN-Explainability-on-Earthquakes\\CNN_EQML\\Lib\\site-packages\\tqdm\\auto.py:21: TqdmWarning: IProgress not found. Please update jupyter and ipywidgets. See https://ipywidgets.readthedocs.io/en/stable/user_install.html\n",
      "  from .autonotebook import tqdm as notebook_tqdm\n",
      "Seed set to 42\n",
      "Seed set to 42\n"
     ]
    },
    {
     "name": "stdout",
     "output_type": "stream",
     "text": [
      "(../preprocessed_dset/spectrograms) Mean: [0.68137387 0.66712049 0.64939852], Std: [0.13272135 0.1345285  0.13304515] (calculated and saved)\n"
     ]
    }
   ],
   "source": [
    "import sys\n",
    "import os\n",
    "import torch\n",
    "from torch.utils.data import DataLoader\n",
    "from torchvision import transforms\n",
    "import pytorch_lightning as pl\n",
    "import numpy as np\n",
    "from tqdm import tqdm\n",
    "import pandas as pd\n",
    "import h5py\n",
    "\n",
    "from explainability_utils import *\n",
    "\n",
    "# Add the 'training' directory to sys.path\n",
    "sys.path.append(os.path.abspath(\"../training\"))\n",
    "from training_utils import CNN2D, ExplainerDataset"
   ]
  },
  {
   "cell_type": "code",
   "execution_count": 2,
   "metadata": {},
   "outputs": [
    {
     "name": "stdout",
     "output_type": "stream",
     "text": [
      "(..\\preprocessed_dset\\spectrograms) Mean: [0.68137387 0.66712049 0.64939852], Std: [0.13272135 0.1345285  0.13304515] (calculated and saved)\n",
      "Using device: cuda\n",
      "Model loaded\n"
     ]
    }
   ],
   "source": [
    "# Path to the data\n",
    "base_path = \"..\\preprocessed_dset\"\n",
    "data_path = os.path.join(base_path, \"spectrograms\")\n",
    "meta_path = os.path.join(base_path, \"metadata.csv\")\n",
    "wave_path = r\"..\\dset\\data\\catalogs\\NRCA\"\n",
    "\n",
    "shap_data_path = 'samples'\n",
    "\n",
    "output_path = \"shap_tensors\"\n",
    "os.makedirs(output_path, exist_ok=True)\n",
    "MAX_EVALS = 5000\n",
    "\n",
    "\n",
    "f_t_range_64_path = os.path.join(data_path, \"f_t_range.npy\")\n",
    "tf = np.load(f_t_range_64_path)\n",
    "\n",
    "ft = [tf[:2], tf[2:]]\n",
    "\n",
    "# Path to the best model found in the training notebooks\n",
    "best_model_path = r\"..\\training\\model_checkpoints\\best_model_fold_2.ckpt\"\n",
    "best_model_c_path = r\"..\\training\\model_checkpoints\\best_model_c_fold_2.ckpt\"\n",
    "\n",
    "sample_dim = (33, 96)\n",
    "\n",
    "# Setting for the datasets\n",
    "mean, std = spectra_stats(data_path, meta_path)\n",
    "\n",
    "transform = transforms.Compose([\n",
    "    transforms.ToTensor(),\n",
    "    transforms.Normalize(mean=mean, std=std)\n",
    "])\n",
    "\n",
    "device = torch.device(\"cuda\" if torch.cuda.is_available() else \"cpu\")\n",
    "print(f\"Using device: {device}\")\n",
    "\n",
    "model = CNN2D.load_from_checkpoint(best_model_path, input_dim=sample_dim, num_classes=2)\n",
    "model.eval()\n",
    "model.to(device)\n",
    "print(\"Model loaded\")"
   ]
  },
  {
   "cell_type": "markdown",
   "metadata": {},
   "source": [
    "### Compute SHAP Tensor for each explainability set sample"
   ]
  },
  {
   "cell_type": "markdown",
   "metadata": {},
   "source": [
    "#### Foreshocks"
   ]
  },
  {
   "cell_type": "code",
   "execution_count": 19,
   "metadata": {},
   "outputs": [],
   "source": [
    "dset_pre = ExplainerDataset(data_path = os.path.join(shap_data_path, 'foreshocks'), \n",
    "                            dataframe_path = meta_path, \n",
    "                            transform=transform)\n",
    "\n",
    "dloader_pre = DataLoader(dset_pre, batch_size=1, shuffle=False)"
   ]
  },
  {
   "cell_type": "code",
   "execution_count": null,
   "metadata": {},
   "outputs": [],
   "source": [
    "output_dir = os.path.join(output_path, \"foreshocks\")\n",
    "os.makedirs(output_dir, exist_ok=True)\n",
    "for sample in tqdm(dloader_pre, total = 300):\n",
    "    compute_shap_tensor(model = model,\n",
    "                        sample = sample,\n",
    "                        dim = sample_dim,\n",
    "                        device = device,\n",
    "                        max_evals = MAX_EVALS,\n",
    "                        save_dir = output_dir)"
   ]
  },
  {
   "cell_type": "code",
   "execution_count": 9,
   "metadata": {},
   "outputs": [
    {
     "name": "stderr",
     "output_type": "stream",
     "text": [
      "100%|██████████| 300/300 [00:00<00:00, 1072.83it/s]"
     ]
    },
    {
     "name": "stdout",
     "output_type": "stream",
     "text": [
      "Tensor saved at: shap_tensors\\avg_p_pre.npy \n",
      "Shape: (33, 96, 3)\n"
     ]
    },
    {
     "name": "stderr",
     "output_type": "stream",
     "text": [
      "\n"
     ]
    }
   ],
   "source": [
    "# Compute mean SHAP Tensor (P-fixed)\n",
    "\n",
    "output_dir = os.path.join(output_path, \"foreshocks\")\n",
    "p_mean_pre = np.zeros((*sample_dim, 3)) # shape (33, 96, 3)\n",
    "tot = 300\n",
    "\n",
    "for filename in tqdm(os.listdir(output_dir), total = tot):\n",
    "    if filename.endswith(\".npy\"):\n",
    "        file_path = os.path.join(output_dir, filename)\n",
    "        shap = np.load(file_path) # shape (1, 33, 96, 3)\n",
    "        shap = shap.squeeze(axis=0) # shape (33, 96, 3)\n",
    "        p_mean_pre += shap/tot\n",
    "\n",
    "np.save(os.path.join(output_path, \"avg_p_pre.npy\"), p_mean_pre)\n",
    "print(f\"Tensor saved at: {os.path.join(output_path, 'avg_p_pre.npy')} \\nShape: {p_mean_pre.shape}\")"
   ]
  },
  {
   "cell_type": "code",
   "execution_count": 10,
   "metadata": {},
   "outputs": [
    {
     "name": "stderr",
     "output_type": "stream",
     "text": [
      "100%|██████████| 300/300 [00:00<00:00, 341.36it/s]"
     ]
    },
    {
     "name": "stdout",
     "output_type": "stream",
     "text": [
      "Tensor saved at: shap_tensors\\avg_s_pre.npy \n",
      "Shape: (33, 59, 3)\n"
     ]
    },
    {
     "name": "stderr",
     "output_type": "stream",
     "text": [
      "\n"
     ]
    }
   ],
   "source": [
    "# Compute mean SHAP Tensor (S-fixed)\n",
    "\n",
    "output_dir = os.path.join(output_path, \"foreshocks\")\n",
    "df = pd.read_csv(meta_path)\n",
    "tot = 300\n",
    "pixel_per_sec = sample_dim[1]/13\n",
    "duration = int(8*pixel_per_sec)\n",
    "s_mean_pre = np.zeros((sample_dim[0], duration, 3)) # shape (33, 59, 3)\n",
    "\n",
    "for filename in tqdm(os.listdir(output_dir), total = tot):\n",
    "    if filename.endswith(\".npy\"):\n",
    "        file_path = os.path.join(output_dir, filename)\n",
    "        trace_name = filename.removesuffix(\".npy\")\n",
    "        shap = np.load(file_path).squeeze(axis=0) # shape (33, 96, 3)\n",
    "        p_s_diff_sec = df[df[\"trace_name\"]==trace_name][\"p_s_diff_sec\"].values[0]\n",
    "\n",
    "        s_arrival = 5 + p_s_diff_sec\n",
    "        start = s_arrival - 4\n",
    "        start_pixel = int(start * pixel_per_sec)\n",
    "        shap = shap[:,start_pixel:start_pixel+duration,:]\n",
    "\n",
    "        s_mean_pre += shap/tot\n",
    "\n",
    "np.save(os.path.join(output_path, \"avg_s_pre.npy\"), s_mean_pre)\n",
    "print(f\"Tensor saved at: {os.path.join(output_path, 'avg_s_pre.npy')} \\nShape: {s_mean_pre.shape}\")"
   ]
  },
  {
   "cell_type": "markdown",
   "metadata": {},
   "source": [
    "#### Aftershocks"
   ]
  },
  {
   "cell_type": "code",
   "execution_count": 20,
   "metadata": {},
   "outputs": [],
   "source": [
    "dset_post = ExplainerDataset(data_path = os.path.join(shap_data_path, 'aftershocks'), \n",
    "                            dataframe_path = meta_path, \n",
    "                            transform=transform)\n",
    "\n",
    "dloader_post = DataLoader(dset_post, batch_size=1, shuffle=False)"
   ]
  },
  {
   "cell_type": "code",
   "execution_count": null,
   "metadata": {},
   "outputs": [],
   "source": [
    "output_dir = os.path.join(output_path, \"aftershocks\")\n",
    "os.makedirs(output_dir, exist_ok=True)\n",
    "for sample in tqdm(dloader_post, total = 300):\n",
    "    compute_shap_tensor(model = model,\n",
    "                        sample = sample,\n",
    "                        dim = sample_dim,\n",
    "                        device = device,\n",
    "                        max_evals = MAX_EVALS,\n",
    "                        save_dir = output_dir)"
   ]
  },
  {
   "cell_type": "code",
   "execution_count": 22,
   "metadata": {},
   "outputs": [
    {
     "name": "stderr",
     "output_type": "stream",
     "text": [
      "  0%|          | 0/300 [00:00<?, ?it/s]"
     ]
    },
    {
     "name": "stderr",
     "output_type": "stream",
     "text": [
      "100%|██████████| 300/300 [00:00<00:00, 844.71it/s]"
     ]
    },
    {
     "name": "stdout",
     "output_type": "stream",
     "text": [
      "Tensor saved at: shap_tensors\\avg_p_post.npy \n",
      "Shape: (33, 96, 3)\n"
     ]
    },
    {
     "name": "stderr",
     "output_type": "stream",
     "text": [
      "\n"
     ]
    }
   ],
   "source": [
    "# Compute mean SHAP Tensor (P-fixed)\n",
    "\n",
    "output_dir = os.path.join(output_path, \"aftershocks\")\n",
    "p_mean_post = np.zeros((*sample_dim, 3)) # shape (33, 96, 3)\n",
    "tot = 300\n",
    "\n",
    "for filename in tqdm(os.listdir(output_dir), total = tot):\n",
    "    if filename.endswith(\".npy\"):\n",
    "        file_path = os.path.join(output_dir, filename)\n",
    "        shap = np.load(file_path) # shape (1, 33, 96, 3)\n",
    "        shap = shap.squeeze(axis=0) # shape (33, 96, 3)\n",
    "        p_mean_post += shap/tot\n",
    "\n",
    "np.save(os.path.join(output_path, \"avg_p_post.npy\"), p_mean_post)\n",
    "print(f\"Tensor saved at: {os.path.join(output_path, 'avg_p_post.npy')} \\nShape: {p_mean_post.shape}\")"
   ]
  },
  {
   "cell_type": "code",
   "execution_count": 23,
   "metadata": {},
   "outputs": [
    {
     "name": "stderr",
     "output_type": "stream",
     "text": [
      "100%|██████████| 300/300 [00:00<00:00, 355.94it/s]"
     ]
    },
    {
     "name": "stdout",
     "output_type": "stream",
     "text": [
      "Tensor saved at: shap_tensors\\avg_s_post.npy \n",
      "Shape: (33, 59, 3)\n"
     ]
    },
    {
     "name": "stderr",
     "output_type": "stream",
     "text": [
      "\n"
     ]
    }
   ],
   "source": [
    "# Compute mean SHAP Tensor (S-fixed)\n",
    "\n",
    "output_dir = os.path.join(output_path, \"aftershocks\")\n",
    "df = pd.read_csv(meta_path)\n",
    "tot = 300\n",
    "pixel_per_sec = sample_dim[1]/13\n",
    "duration = int(8*pixel_per_sec)\n",
    "s_mean_post = np.zeros((sample_dim[0], duration, 3)) # shape (33, 59, 3)\n",
    "\n",
    "for filename in tqdm(os.listdir(output_dir), total = tot):\n",
    "    if filename.endswith(\".npy\"):\n",
    "        file_path = os.path.join(output_dir, filename)\n",
    "        trace_name = filename.removesuffix(\".npy\")\n",
    "        shap = np.load(file_path).squeeze(axis=0) # shape (33, 96, 3)\n",
    "        p_s_diff_sec = df[df[\"trace_name\"]==trace_name][\"p_s_diff_sec\"].values[0]\n",
    "\n",
    "        s_arrival = 5 + p_s_diff_sec\n",
    "        start = s_arrival - 4\n",
    "        start_pixel = int(start * pixel_per_sec)\n",
    "        shap = shap[:,start_pixel:start_pixel+duration,:]\n",
    "\n",
    "        s_mean_post += shap/tot\n",
    "\n",
    "np.save(os.path.join(output_path, \"avg_s_post.npy\"), s_mean_post)\n",
    "print(f\"Tensor saved at: {os.path.join(output_path, 'avg_s_post.npy')} \\nShape: {s_mean_post.shape}\")"
   ]
  },
  {
   "cell_type": "markdown",
   "metadata": {},
   "source": [
    "#### Colocated"
   ]
  },
  {
   "cell_type": "code",
   "execution_count": null,
   "metadata": {},
   "outputs": [],
   "source": [
    "model_c = CNN2D.load_from_checkpoint(best_model_c_path, input_dim=sample_dim, num_classes=2)\n",
    "model_c.eval()\n",
    "model_c.to(device)\n",
    "print(\"Model loaded\")\n",
    "\n",
    "dset_c = ExplainerDataset(data_path = os.path.join(shap_data_path, 'colocated'), \n",
    "                            dataframe_path = meta_path, \n",
    "                            transform=transform)\n",
    "\n",
    "dloader_c = DataLoader(dset_c, batch_size=1, shuffle=False)\n",
    "\n",
    "output_dir = os.path.join(output_path, \"colocated\")\n",
    "os.makedirs(output_dir, exist_ok=True)\n",
    "for sample in tqdm(dloader_c, total = 130):\n",
    "    compute_shap_tensor(model = model_c,\n",
    "                        sample = sample,\n",
    "                        dim = sample_dim,\n",
    "                        device = device,\n",
    "                        max_evals = MAX_EVALS,\n",
    "                        save_dir = output_dir)"
   ]
  },
  {
   "cell_type": "markdown",
   "metadata": {},
   "source": [
    "#### Misclassified"
   ]
  },
  {
   "cell_type": "code",
   "execution_count": 6,
   "metadata": {},
   "outputs": [
    {
     "name": "stderr",
     "output_type": "stream",
     "text": [
      "PartitionExplainer explainer: 2it [00:42, 42.16s/it]               \n",
      "PartitionExplainer explainer: 2it [00:32, 32.12s/it]               \n",
      "PartitionExplainer explainer: 2it [00:36, 36.42s/it]               \n",
      "PartitionExplainer explainer: 2it [00:33, 33.05s/it]               \n",
      "100%|██████████| 4/4 [02:39<00:00, 39.90s/it]\n"
     ]
    }
   ],
   "source": [
    "# COMPUTE SHAP FOR MISCLASSIFIED TRACES\n",
    "target_shap_folder = os.path.join(output_path, \"misclassified\")\n",
    "os.makedirs(target_shap_folder, exist_ok=True)\n",
    "\n",
    "dset_m = ExplainerDataset(data_path = os.path.join(shap_data_path, 'misclassified'), \n",
    "                            dataframe_path = meta_path, \n",
    "                            transform=transform)\n",
    "\n",
    "dloader_m = DataLoader(dset_m, batch_size=1, shuffle=False)\n",
    "\n",
    "for sample in tqdm(dloader_m):\n",
    "    compute_shap_tensor(model = model,\n",
    "                        sample = sample,\n",
    "                        dim = sample_dim,\n",
    "                        device = device,\n",
    "                        max_evals = MAX_EVALS,\n",
    "                        save_dir = target_shap_folder,\n",
    "                        len_label_channels_shap=2)"
   ]
  },
  {
   "cell_type": "code",
   "execution_count": 7,
   "metadata": {},
   "outputs": [
    {
     "name": "stdout",
     "output_type": "stream",
     "text": [
      "Shape SHAP Tensor:  (1, 33, 96, 3, 2)\n",
      "Total computed traces:  4\n"
     ]
    }
   ],
   "source": [
    "print(\"Shape SHAP Tensor: \", np.load(os.path.join(target_shap_folder, os.listdir(target_shap_folder)[0])).shape)\n",
    "print(\"Total computed traces: \", len(os.listdir(target_shap_folder)))"
   ]
  },
  {
   "cell_type": "markdown",
   "metadata": {},
   "source": [
    "### Plots"
   ]
  },
  {
   "cell_type": "code",
   "execution_count": 5,
   "metadata": {},
   "outputs": [
    {
     "name": "stdout",
     "output_type": "stream",
     "text": [
      "Foreshock entries:  300\n",
      "Aftershock entries:  300\n"
     ]
    }
   ],
   "source": [
    "df = pd.read_csv(meta_path)\n",
    "\n",
    "foreshock_traces = []\n",
    "for filename in os.listdir(os.path.join(output_path, \"foreshocks\")):\n",
    "    if filename.endswith(\".npy\"):\n",
    "        foreshock_traces.append(filename.removesuffix(\".npy\"))\n",
    "\n",
    "foreshock_df = df[df[\"trace_name\"].isin(foreshock_traces)]\n",
    "foreshock_s_diff = foreshock_df[foreshock_df[\"p_s_diff_sec\"] >= 0][\"p_s_diff_sec\"].values\n",
    "print(\"Foreshock entries: \", len(foreshock_df))\n",
    "\n",
    "aftershock_traces = []\n",
    "for filename in os.listdir(os.path.join(output_path, \"aftershocks\")):\n",
    "    if filename.endswith(\".npy\"):\n",
    "        aftershock_traces.append(filename.removesuffix(\".npy\"))\n",
    "\n",
    "aftershock_df = df[df[\"trace_name\"].isin(aftershock_traces)]\n",
    "aftershock_s_diff = aftershock_df[aftershock_df[\"p_s_diff_sec\"] >= 0][\"p_s_diff_sec\"].values\n",
    "print(\"Aftershock entries: \", len(aftershock_df))"
   ]
  },
  {
   "cell_type": "markdown",
   "metadata": {},
   "source": [
    "#### Average P-fixed"
   ]
  },
  {
   "cell_type": "code",
   "execution_count": 4,
   "metadata": {},
   "outputs": [
    {
     "data": {
      "image/png": "[encoded data removed]",
      "text/plain": [
       "<Figure size 1000x700 with 2 Axes>"
      ]
     },
     "metadata": {},
     "output_type": "display_data"
    },
    {
     "data": {
      "image/png": "[encoded data removed]",
      "text/plain": [
       "<Figure size 1000x700 with 2 Axes>"
      ]
     },
     "metadata": {},
     "output_type": "display_data"
    }
   ],
   "source": [
    "# Plot SHAP Tensor (P-fixed)\n",
    "\n",
    "p_mean_pre = np.load(os.path.join(output_path, \"avg_p_pre.npy\"))\n",
    "p_mean_post = np.load(os.path.join(output_path, \"avg_p_post.npy\"))\n",
    "\n",
    "alpha_max = np.max([np.max(p_mean_pre), np.max(p_mean_post)])\n",
    "alpha_min = np.min([np.min(p_mean_pre), np.min(p_mean_post)])\n",
    "\n",
    "plot_mean_shap_p(p_mean_pre.mean(axis=-1), \n",
    "                 ft, \n",
    "                 title = \"Average Shap Tensor of 300 correct predicted Foreshock Samples\",\n",
    "                 alpha_max = alpha_max,\n",
    "                 alpha_min = alpha_min,\n",
    "                 hist = 5 + foreshock_s_diff,\n",
    "                 figsize=(10, 7))\n",
    "plot_mean_shap_p(p_mean_post.mean(axis=-1), \n",
    "                 ft, \n",
    "                 title = \"Average Shap Tensor of 300 correct predicted Aftershock Samples\",\n",
    "                 alpha_max = alpha_max,\n",
    "                 alpha_min = alpha_min,\n",
    "                 hist = 5 + aftershock_s_diff,\n",
    "                 figsize=(10, 7))"
   ]
  },
  {
   "cell_type": "code",
   "execution_count": null,
   "metadata": {},
   "outputs": [],
   "source": [
    "# SAVE PLOT IMAGES\n",
    "\n",
    "plot_mean_shap_p(p_mean_pre.mean(axis=-1), \n",
    "                 ft, \n",
    "                 title = \"Average Shap Tensor of 300 correct predicted Foreshock Samples\",\n",
    "                 alpha_max = alpha_max,\n",
    "                 alpha_min = alpha_min,\n",
    "                 hist = 5 + foreshock_s_diff,\n",
    "                 figsize=(10, 7),\n",
    "                 save_path=r\"..\\plots\\mean_shap1p_fixed_mean_shap_pre.png\")\n",
    "plot_mean_shap_p(p_mean_post.mean(axis=-1), \n",
    "                 ft, \n",
    "                 title = \"Average Shap Tensor of 300 correct predicted Aftershock Samples\",\n",
    "                 alpha_max = alpha_max,\n",
    "                 alpha_min = alpha_min,\n",
    "                 hist = 5 + aftershock_s_diff,\n",
    "                 figsize=(10, 7),\n",
    "                 save_path=r\"..\\plots\\mean_shap\\p_fixed_mean_shap_post.png\")\n",
    "\n"
   ]
  },
  {
   "cell_type": "markdown",
   "metadata": {},
   "source": [
    "#### Average S-fixed"
   ]
  },
  {
   "cell_type": "code",
   "execution_count": 7,
   "metadata": {},
   "outputs": [
    {
     "data": {
      "image/png": "[encoded data removed]",
      "text/plain": [
       "<Figure size 1000x700 with 2 Axes>"
      ]
     },
     "metadata": {},
     "output_type": "display_data"
    },
    {
     "data": {
      "image/png": "[encoded data removed]",
      "text/plain": [
       "<Figure size 1000x700 with 2 Axes>"
      ]
     },
     "metadata": {},
     "output_type": "display_data"
    }
   ],
   "source": [
    "# Plot SHAP Tensor (P-fixed)\n",
    "s_mean_pre = np.load(os.path.join(output_path, \"avg_s_pre.npy\"))\n",
    "s_mean_post = np.load(os.path.join(output_path, \"avg_s_post.npy\"))\n",
    "\n",
    "alpha_max = np.max([np.max(s_mean_pre), np.max(s_mean_post)])\n",
    "alpha_min = np.min([np.min(s_mean_pre), np.min(s_mean_post)])\n",
    "\n",
    "plot_mean_shap_s(s_mean_pre.mean(axis=-1), \n",
    "                 ft, \n",
    "                 title = \"Average Shap Tensor of 300 correct predicted Foreshock Samples\",\n",
    "                 alpha_max = alpha_max,\n",
    "                 alpha_min = alpha_min,\n",
    "                 hist = 4 - foreshock_s_diff,\n",
    "                 figsize=(10, 7))\n",
    "plot_mean_shap_s(s_mean_post.mean(axis=-1), \n",
    "                 ft, \n",
    "                 title = \"Average Shap Tensor of 300 correct predicted Aftershock Samples\",\n",
    "                 alpha_max=alpha_max,\n",
    "                 alpha_min=alpha_min,\n",
    "                 hist = 4 - aftershock_s_diff,\n",
    "                 figsize=(10,7))"
   ]
  },
  {
   "cell_type": "code",
   "execution_count": null,
   "metadata": {},
   "outputs": [],
   "source": [
    "plot_mean_shap_s(s_mean_pre.mean(axis=-1), \n",
    "                 ft, \n",
    "                 title = \"Average Shap Tensor of 300 correct predicted Foreshock Samples\",\n",
    "                 alpha_max = alpha_max,\n",
    "                 alpha_min = alpha_min,\n",
    "                 hist = 4 - foreshock_s_diff,\n",
    "                 figsize=(10, 7),\n",
    "                 save_path=r\"..\\plots\\mean_shap\\s_fixed_mean_shap_pre.png\")\n",
    "plot_mean_shap_s(s_mean_post.mean(axis=-1), \n",
    "                 ft, \n",
    "                 title = \"Average Shap Tensor of 300 correct predicted Aftershock Samples\",\n",
    "                 alpha_max=alpha_max,\n",
    "                 alpha_min=alpha_min,\n",
    "                 hist = 4 - aftershock_s_diff,\n",
    "                 figsize=(10, 7),\n",
    "                 save_path=r\"..\\plots\\mean_shap\\s_fixed_mean_shap_post.png\")"
   ]
  },
  {
   "cell_type": "markdown",
   "metadata": {},
   "source": [
    "#### Temporal Evolution"
   ]
  },
  {
   "cell_type": "code",
   "execution_count": 6,
   "metadata": {},
   "outputs": [
    {
     "name": "stdout",
     "output_type": "stream",
     "text": [
      "First week for Foreshocks:  33\n",
      "Last week for Foreshocks:  43\n",
      "Total weeks of Foreshocks:  11\n",
      "\n",
      "First week for Aftershocks:  44\n",
      "Last week for Aftershocks:  51\n",
      "Total weeks of Foreshocks:  8\n",
      "\n",
      "Week 33:  1\n",
      "Week 34:  444\n",
      "Week 35:  600\n",
      "Week 36:  387\n",
      "Week 37:  360\n",
      "Week 38:  479\n",
      "Week 39:  338\n",
      "Week 40:  309\n",
      "Week 41:  308\n",
      "Week 42:  318\n",
      "Week 43:  88\n",
      "Week 44:  352\n",
      "Week 45:  151\n",
      "Week 46:  388\n",
      "Week 47:  379\n",
      "Week 48:  304\n",
      "Week 49:  299\n",
      "Week 50:  283\n",
      "Week 51:  38\n"
     ]
    }
   ],
   "source": [
    "# WEEKS STATS\n",
    "first_week_pre = df[df[\"label\"] == \"pre\"][\"week\"].values.min()\n",
    "first_week_post = df[df[\"label\"] == \"post\"][\"week\"].values.min()   \n",
    "last_week_pre = df[df[\"label\"] == \"pre\"][\"week\"].values.max()\n",
    "last_week_post = df[df[\"label\"] == \"post\"][\"week\"].values.max()\n",
    "\n",
    "print(\"First week for Foreshocks: \", first_week_pre)\n",
    "print(\"Last week for Foreshocks: \", last_week_pre)\n",
    "print(\"Total weeks of Foreshocks: \", len(df[df[\"label\"] == \"pre\"][\"week\"].unique()))\n",
    "print()\n",
    "print(\"First week for Aftershocks: \", first_week_post)\n",
    "print(\"Last week for Aftershocks: \", last_week_post)\n",
    "print(\"Total weeks of Foreshocks: \", len(df[df[\"label\"] == \"post\"][\"week\"].unique()))\n",
    "print()\n",
    "\n",
    "for week in range(first_week_pre, last_week_post+1):\n",
    "    print(f\"Week {week}: \", len(df[df[\"week\"] == week]))"
   ]
  },
  {
   "cell_type": "markdown",
   "metadata": {},
   "source": [
    "##### Computing SHAP"
   ]
  },
  {
   "cell_type": "code",
   "execution_count": 7,
   "metadata": {},
   "outputs": [],
   "source": [
    "first_week_pre = 34\n",
    "first_week_post = 44  \n",
    "last_week_pre = 43\n",
    "last_week_post = 51"
   ]
  },
  {
   "cell_type": "code",
   "execution_count": null,
   "metadata": {},
   "outputs": [
    {
     "name": "stdout",
     "output_type": "stream",
     "text": [
      "Already computed traces:  180\n",
      "Images to compute:  66\n"
     ]
    }
   ],
   "source": [
    "# INTEGRATE MISSING WEEKS\n",
    "week_traces = dict() # {week: [trace_name, trace_name, ...]}\n",
    "input_folder = r\"..\\preprocessed_dset\\spectrograms\"\n",
    "alredy_computed_pre = r\"shap_tensors\\foreshocks\"\n",
    "alredy_computed_post = r\"shap_tensors\\aftershocks\"\n",
    "target_image_folder = r\"samples\\temporal\"\n",
    "target_shap_folder = r\"shap_tensors\\temporal\"\n",
    "os.makedirs(target_image_folder, exist_ok=True)\n",
    "os.makedirs(target_shap_folder, exist_ok=True)\n",
    "\n",
    "pick_per_week = 10\n",
    "\n",
    "for week in range(first_week_pre, last_week_pre+1):\n",
    "\n",
    "    week_traces[week] = foreshock_df[foreshock_df[\"week\"] == week][\"trace_name\"].values[:pick_per_week]\n",
    "    for trace in week_traces[week]:\n",
    "        already_path = os.path.join(alredy_computed_pre, trace + \".npy\")\n",
    "        target_shap_path = os.path.join(target_shap_folder, trace + \".npy\")\n",
    "\n",
    "        #os.system(f\"copy {already_path} {target_shap_path}\")\n",
    "\n",
    "    week_diff_traces = pick_per_week - len(week_traces[week])\n",
    "\n",
    "    new_traces = df[df[\"week\"] == week][\"trace_name\"].values[:week_diff_traces]\n",
    "    week_traces[week] = np.concatenate((week_traces[week], new_traces))\n",
    "    for trace in new_traces:\n",
    "        source_path = os.path.join(input_folder, trace + \".png\")\n",
    "        target_path = os.path.join(target_image_folder, trace + \".png\")\n",
    "        #os.system(f\"copy {source_path} {target_path}\")\n",
    "\n",
    "    \n",
    "\n",
    "for week in range(first_week_post, last_week_post+1):\n",
    "\n",
    "    week_traces[week] = aftershock_df[aftershock_df[\"week\"] == week][\"trace_name\"].values[:pick_per_week]\n",
    "    for trace in week_traces[week]:\n",
    "        already_path = os.path.join(alredy_computed_post, trace + \".npy\")\n",
    "        target_shap_path = os.path.join(target_shap_folder, trace + \".npy\")\n",
    "\n",
    "        #os.system(f\"copy {already_path} {target_shap_path}\")\n",
    "\n",
    "\n",
    "    week_diff_traces = pick_per_week - len(week_traces[week])\n",
    "\n",
    "    new_traces = df[df[\"week\"] == week][\"trace_name\"].values[:week_diff_traces]\n",
    "    week_traces[week] = np.concatenate((week_traces[week], new_traces))\n",
    "    for trace in new_traces:\n",
    "        source_path = os.path.join(input_folder, trace + \".png\")\n",
    "        target_path = os.path.join(target_image_folder, trace + \".png\")\n",
    "        #os.system(f\"copy {source_path} {target_path}\")\n",
    "\n",
    "\n",
    "print(\"Already computed traces: \", len(os.listdir(target_shap_folder)))\n",
    "#print(\"Images to compute: \", len(os.listdir(target_image_folder)))"
   ]
  },
  {
   "cell_type": "code",
   "execution_count": null,
   "metadata": {},
   "outputs": [],
   "source": [
    "# COMPUTE SHAP FOR NEW TRACES\n",
    "\n",
    "dset_t = ExplainerDataset(data_path = os.path.join(shap_data_path, 'temporal'), \n",
    "                            dataframe_path = meta_path, \n",
    "                            transform=transform)\n",
    "\n",
    "dloader_t = DataLoader(dset_t, batch_size=1, shuffle=False)\n",
    "\n",
    "for sample in tqdm(dloader_t):\n",
    "    compute_shap_tensor(model = model,\n",
    "                        sample = sample,\n",
    "                        dim = sample_dim,\n",
    "                        device = device,\n",
    "                        max_evals = MAX_EVALS,\n",
    "                        save_dir = target_shap_folder)\n",
    "    \n",
    "print(\"Total computed traces: \", len(os.listdir(target_shap_folder)))"
   ]
  },
  {
   "cell_type": "markdown",
   "metadata": {},
   "source": [
    "##### Average SHAP per week"
   ]
  },
  {
   "cell_type": "code",
   "execution_count": 12,
   "metadata": {},
   "outputs": [
    {
     "name": "stderr",
     "output_type": "stream",
     "text": [
      "100%|██████████| 18/18 [00:00<00:00, 193.52it/s]\n"
     ]
    }
   ],
   "source": [
    "week_shap_average = dict() # {week: (shap_tensor, hist of s-wave arrival)}\n",
    "\n",
    "for week in tqdm(week_traces):\n",
    "    shap_tensors = []\n",
    "    for trace in week_traces[week]:\n",
    "        file_path = os.path.join(target_shap_folder, trace + \".npy\")\n",
    "        shap = np.load(file_path).squeeze(axis=0) # shape (33, 96, 3)\n",
    "        shap_tensors.append(shap)\n",
    "    \n",
    "    shap_tensors = np.array(shap_tensors)\n",
    "    shap_mean = shap_tensors.mean(axis=0)\n",
    "\n",
    "    week_shap_average[week] = (shap_mean, df[df[\"trace_name\"].isin(week_traces[week])][\"p_s_diff_sec\"].values)"
   ]
  },
  {
   "cell_type": "code",
   "execution_count": 14,
   "metadata": {},
   "outputs": [],
   "source": [
    "alpha_max, alpha_min = -np.inf, np.inf\n",
    "for week in week_shap_average:\n",
    "    shap_tensor, _ = week_shap_average[week]\n",
    "    alpha_max = max(alpha_max, shap_tensor.max())\n",
    "    alpha_min = min(alpha_min, shap_tensor.min())\n",
    "\n",
    "for week in week_shap_average:\n",
    "    shap_tensor, hist = week_shap_average[week]\n",
    "    plot_mean_shap_p(shap_tensor.mean(axis=-1), \n",
    "                     ft, \n",
    "                     title = f\"Week {week} Shap Tensor ({'Aftershock' if week >= first_week_post else 'Foreshock'})\",\n",
    "                     alpha_max = alpha_max,\n",
    "                     alpha_min = alpha_min,\n",
    "                     hist = 5 + hist,\n",
    "                     hist_bins = 5,\n",
    "                     figsize=(10, 7),\n",
    "                     save_path=f\"..\\plots\\week_shap_analysis\\week_{week}_mean_shap.png\")"
   ]
  },
  {
   "cell_type": "markdown",
   "metadata": {},
   "source": [
    "#### Misclassified Events"
   ]
  },
  {
   "cell_type": "code",
   "execution_count": 16,
   "metadata": {},
   "outputs": [],
   "source": [
    "miss_shap = \"shap_tensors\\misclassified\"\n",
    "miss_samples = \"samples\\misclassified\"\n",
    "miss_df = pd.read_csv(\"samples\\misclassified\\model_output.csv\")\n",
    "os.makedirs(\"..\\plots\\misclassified\", exist_ok=True)\n",
    "df = pd.read_csv(meta_path)\n",
    "\n",
    "for filename in os.listdir(miss_shap):\n",
    "    if filename.endswith(\".npy\"):\n",
    "\n",
    "        trace_name = filename.removesuffix(\".npy\")\n",
    "\n",
    "        #open png spectrogram\n",
    "        spectrogram_filename = os.path.join(miss_samples, trace_name + \".png\")\n",
    "        spectrogram = plt.imread(spectrogram_filename)\n",
    "\n",
    "        row_df = df[df[\"trace_name\"] == trace_name]\n",
    "        row_miss = miss_df[miss_df[\"Trace Name\"] == trace_name]\n",
    "\n",
    "        s_arrival = row_df[\"p_s_diff_sec\"].values[0]\n",
    "        week = row_df[\"week\"].values[0]\n",
    "        day = row_df[\"trace_start_time\"].values[0]\n",
    "        label = row_df[\"label\"].values[0]\n",
    "        aftershock_value = row_miss[\"Aftershock_Value\"].values[0]\n",
    "        foreshock_value = row_miss[\"Foreshock_Value\"].values[0]\n",
    "        pred = \"pre\" if foreshock_value > aftershock_value else \"post\"\n",
    "        output = np.array([foreshock_value, aftershock_value])\n",
    "        smax = np.exp(output)/sum(np.exp(output))\n",
    "        prob = smax[0] if pred == \"pre\" else smax[1]\n",
    "\n",
    "        #print(prob)\n",
    "\n",
    "        hdf5_path = os.path.join(wave_path, f\"NRCA_{label}.hdf5\")\n",
    "        hdf = h5py.File(hdf5_path, \"r\")\n",
    "        trace = hdf[trace_name][:]\n",
    "\n",
    "        shap_tensor = np.load(os.path.join(miss_shap, filename)).squeeze(axis=0)\n",
    "        aftershock_tensor = shap_tensor[:, :, :, 0] if pred == \"post\" else shap_tensor[:, :, :, 1]\n",
    "        foreshock_tensor = shap_tensor[:, :, :, 1] if pred == \"post\" else shap_tensor[:, :, :, 0]\n",
    "        aftershock_tensor, foreshock_tensor = aftershock_tensor.mean(axis=-1), foreshock_tensor.mean(axis=-1)\n",
    "\n",
    "        title = f\"Trace: {trace_name} - Label: {label}  - Prediction: {pred} (with ${{\\\\mathit{{I}}P}}$ = {prob:.2f}) \\n Model Output: [Foreshock Value: {foreshock_value} - Aftershock Value: {aftershock_value}]\\n Date: {day}  (Week {week})\"\n",
    "\n",
    "\n",
    "        subtitle2 = \"SHAP Tensor for Aftershock Prediction\"\n",
    "        subtitle1 = \"SHAP Tensor for Foreshock Prediction\"\n",
    "\n",
    "        plot_wf_shap_extended(shap_tensor1=foreshock_tensor, \n",
    "                              shap_tensor2=aftershock_tensor,\n",
    "                              spectrogram=spectrogram,\n",
    "                              waveform=trace,\n",
    "                              title=title, \n",
    "                              subtitle1=subtitle1,\n",
    "                              subtitle2=subtitle2,\n",
    "                              ft = ft,\n",
    "                              alt_wave= 5 + s_arrival,\n",
    "                              figsize=(15, 10),\n",
    "                              show = False,\n",
    "                              save_path=os.path.join(\"..\\plots\\misclassified\", f\"{trace_name}_shap.png\")\n",
    "                              )"
   ]
  },
  {
   "cell_type": "markdown",
   "metadata": {},
   "source": [
    "#### Colocated Events"
   ]
  },
  {
   "cell_type": "code",
   "execution_count": 7,
   "metadata": {},
   "outputs": [
    {
     "name": "stderr",
     "output_type": "stream",
     "text": [
      "Plotting Colocated Traces: 100%|██████████| 65/65 [05:23<00:00,  4.98s/it]\n"
     ]
    }
   ],
   "source": [
    "c_shap = \"shap_tensors\\colocated\"\n",
    "c_samples = \"samples\\colocated\"\n",
    "output_plots = \"..\\plots\\colocated\"\n",
    "os.makedirs(output_plots, exist_ok=True)\n",
    "df = pd.read_csv(meta_path)\n",
    "colocated_df = df[df[\"associato\"] != 0]\n",
    "associato_values = colocated_df[\"associato\"].unique()\n",
    "\n",
    "for value in tqdm(associato_values, desc=\"Plotting Colocated Traces\"):\n",
    "    pre_trace_name = colocated_df[(colocated_df[\"associato\"] == value) & (colocated_df[\"label\"] == \"pre\")][\"trace_name\"].values[0]\n",
    "    post_trace_name = colocated_df[(colocated_df[\"associato\"] == value) & (colocated_df[\"label\"] == \"post\")][\"trace_name\"].values[0]\n",
    "\n",
    "    pre_shap = np.load(os.path.join(c_shap, pre_trace_name + \".npy\")).squeeze(axis=0).mean(axis=-1)\n",
    "    post_shap = np.load(os.path.join(c_shap, post_trace_name + \".npy\")).squeeze(axis=0).mean(axis=-1)\n",
    "\n",
    "    pre_spec = plt.imread(os.path.join(c_samples, pre_trace_name + \".png\"))\n",
    "    post_spec = plt.imread(os.path.join(c_samples, post_trace_name + \".png\"))\n",
    "\n",
    "    pre_trace = h5py.File(os.path.join(wave_path, f\"NRCA_pre.hdf5\"), \"r\")[pre_trace_name][:]\n",
    "    post_trace = h5py.File(os.path.join(wave_path, f\"NRCA_post.hdf5\"), \"r\")[post_trace_name][:]\n",
    "\n",
    "    s_arrival_pre = df[df[\"trace_name\"] == pre_trace_name][\"p_s_diff_sec\"].values[0]\n",
    "    s_arrival_post = df[df[\"trace_name\"] == post_trace_name][\"p_s_diff_sec\"].values[0]\n",
    "\n",
    "    title = f\"Colocated Trace: {value}\"\n",
    "    subtitle1 = f\"SHAP Tensor for Foreshock Prediction \\nTrace Name: {pre_trace_name} - Colocated IDX: {value}\"\n",
    "    subtitle2 = f\"SHAP Tensor for Aftershock Prediction \\nTrace Name: {post_trace_name} - Colocated IDX: {value}\"\n",
    "\n",
    "    plot_wf_shap_dual(shap_tensor1 = pre_shap, shap_tensor2 = post_shap,\n",
    "                      spectrogram1 = pre_spec, spectrogram2 = post_spec,\n",
    "                        waveform1 = pre_trace, waveform2 = post_trace,\n",
    "                        alt_wave1 = 5 + s_arrival_pre, alt_wave2 = 5 + s_arrival_post,\n",
    "                        ft = ft,\n",
    "                        title = title,\n",
    "                        title1 = subtitle1,\n",
    "                        title2 = subtitle2,\n",
    "                        figsize=(20, 12),\n",
    "                        show=False,\n",
    "                        save_path=os.path.join(output_plots, f\"colocated_{value}_shap.png\"))"
   ]
  }
 ],
 "metadata": {
  "kernelspec": {
   "display_name": "CNN_EQML",
   "language": "python",
   "name": "python3"
  },
  "language_info": {
   "codemirror_mode": {
    "name": "ipython",
    "version": 3
   },
   "file_extension": ".py",
   "mimetype": "text/x-python",
   "name": "python",
   "nbconvert_exporter": "python",
   "pygments_lexer": "ipython3",
   "version": "3.11.9"
  }
 },
 "nbformat": 4,
 "nbformat_minor": 2
}
