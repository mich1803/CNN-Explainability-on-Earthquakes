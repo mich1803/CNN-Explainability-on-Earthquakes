{
 "cells": [
  {
   "cell_type": "code",
   "execution_count": 1,
   "metadata": {},
   "outputs": [
    {
     "name": "stderr",
     "output_type": "stream",
     "text": [
      "Seed set to 42\n"
     ]
    }
   ],
   "source": [
    "import os\n",
    "import torch\n",
    "from torch.utils.data import DataLoader, random_split\n",
    "from torchvision import transforms\n",
    "import pytorch_lightning as pl\n",
    "import numpy as np\n",
    "from tqdm import tqdm\n",
    "import random\n",
    "from random import shuffle\n",
    "from pytorch_lightning.callbacks import EarlyStopping, ModelCheckpoint\n",
    "from training_utils import CNN2D, spectra_stats, SpectraDataset"
   ]
  },
  {
   "cell_type": "code",
   "execution_count": 2,
   "metadata": {},
   "outputs": [
    {
     "name": "stderr",
     "output_type": "stream",
     "text": [
      "Seed set to 42\n"
     ]
    },
    {
     "name": "stdout",
     "output_type": "stream",
     "text": [
      "Seed has been set\n"
     ]
    }
   ],
   "source": [
    "# Set a fixed seed value\n",
    "SEED = 42\n",
    "random.seed(SEED)\n",
    "np.random.seed(SEED)\n",
    "torch.manual_seed(SEED)\n",
    "torch.cuda.manual_seed(SEED)\n",
    "torch.cuda.manual_seed_all(SEED)\n",
    "torch.backends.cudnn.deterministic = True\n",
    "torch.backends.cudnn.benchmark = False\n",
    "pl.seed_everything(SEED)\n",
    "print(\"Seed has been set\")"
   ]
  },
  {
   "cell_type": "markdown",
   "metadata": {},
   "source": [
    "# Training CNN on Spectrograms"
   ]
  },
  {
   "cell_type": "markdown",
   "metadata": {},
   "source": [
    "## Data Loading"
   ]
  },
  {
   "cell_type": "code",
   "execution_count": 3,
   "metadata": {},
   "outputs": [],
   "source": [
    "# Path to dataset\n",
    "base_path = \"..\\preprocessed_dset\"\n",
    "data_path = os.path.join(base_path, \"spectrograms\")\n",
    "meta_path = os.path.join(base_path, \"metadata.csv\")"
   ]
  },
  {
   "cell_type": "code",
   "execution_count": 4,
   "metadata": {},
   "outputs": [
    {
     "name": "stdout",
     "output_type": "stream",
     "text": [
      "(..\\preprocessed_dset\\spectrograms) Mean: [0.68137387 0.66712049 0.64939852], Std: [0.13272135 0.1345285  0.13304515] (calculated and saved)\n"
     ]
    }
   ],
   "source": [
    "# Data stats for normalization\n",
    "    \n",
    "mean, std = spectra_stats(data_path, meta_path)"
   ]
  },
  {
   "cell_type": "code",
   "execution_count": 10,
   "metadata": {},
   "outputs": [
    {
     "name": "stdout",
     "output_type": "stream",
     "text": [
      "Dataset -> Train: 3534, Test: 1165\n",
      "Dataset (Excluding colocated events) -> Train: 3434, Test: 1265\n",
      "\n",
      "Training batch shape:  torch.Size([32, 3, 33, 96])\n",
      "using device: cuda\n"
     ]
    }
   ],
   "source": [
    "# Define Dataset and DataLoader\n",
    "\n",
    "transform = transforms.Compose([\n",
    "    transforms.ToTensor(),\n",
    "    transforms.Normalize(mean=mean, std=std)\n",
    "])\n",
    "\n",
    "\n",
    "\n",
    "train_dset = SpectraDataset(data_path=data_path,\n",
    "                            dataframe_path=meta_path,\n",
    "                            transform = transform,\n",
    "                            split=\"train\")\n",
    "test_dset = SpectraDataset(data_path=data_path,\n",
    "                            dataframe_path=meta_path,\n",
    "                            transform = transform,\n",
    "                            split=\"test\",\n",
    "                            get_metadata=True,\n",
    "                            same_amount=False)\n",
    "\n",
    "train_dset_c = SpectraDataset(data_path=data_path,\n",
    "                            dataframe_path=meta_path,\n",
    "                            transform = transform,\n",
    "                            split=\"train\",\n",
    "                            colocated=True)\n",
    "test_dset_c = SpectraDataset(data_path=data_path,\n",
    "                            dataframe_path=meta_path,\n",
    "                            transform = transform,\n",
    "                            split=\"test\",\n",
    "                            get_metadata=True,\n",
    "                            colocated=True,\n",
    "                            same_amount=False)\n",
    "\n",
    "# print dset dimensions\n",
    "print(f\"Dataset -> Train: {len(train_dset)}, Test: {len(test_dset)}\")\n",
    "print(f\"Dataset (Excluding colocated events) -> Train: {len(train_dset_c)}, Test: {len(test_dset_c)}\")\n",
    "\n",
    "\n",
    "\n",
    "# Define Dataloader\n",
    "\n",
    "train_data = DataLoader(train_dset, batch_size=32, shuffle=True)\n",
    "test_data = DataLoader(test_dset, batch_size=32, shuffle=False)\n",
    "sample_batch, _ = next(iter(train_data))  # Assuming labels exist, ignore them with \"_\"\n",
    "\n",
    "# Get the spatial shape (height, width) of the images\n",
    "sample_shape = sample_batch.shape[-2:]\n",
    "\n",
    "print(\"\\nTraining batch shape: \", sample_batch.shape) \n",
    "\n",
    "train_data_c = DataLoader(train_dset_c, batch_size=32, shuffle=True)\n",
    "test_data_c = DataLoader(test_dset_c, batch_size=32, shuffle=False)\n",
    "\n",
    "device = torch.device(\"cuda\" if torch.cuda.is_available() else \"cpu\")\n",
    "print(f\"using device: {device}\")\n"
   ]
  },
  {
   "cell_type": "code",
   "execution_count": 7,
   "metadata": {},
   "outputs": [
    {
     "name": "stdout",
     "output_type": "stream",
     "text": [
      "Split 0: Train: 3030, Val: 504\n",
      "Split 1: Train: 3030, Val: 504\n",
      "Split 2: Train: 3030, Val: 504\n",
      "Split 3: Train: 3030, Val: 504\n",
      "Split 4: Train: 3030, Val: 504\n",
      "Split 5: Train: 3030, Val: 504\n",
      "Split 6: Train: 3024, Val: 510\n",
      "\n",
      "Split 0: Train: 2944, Val: 490\n",
      "Split 1: Train: 2944, Val: 490\n",
      "Split 2: Train: 2944, Val: 490\n",
      "Split 3: Train: 2944, Val: 490\n",
      "Split 4: Train: 2944, Val: 490\n",
      "Split 5: Train: 2944, Val: 490\n",
      "Split 6: Train: 2940, Val: 494\n",
      "\n"
     ]
    }
   ],
   "source": [
    "def split_train_cross_val(dataset, n_splits=7):\n",
    "    splits = []\n",
    "    size = (len(dataset) // n_splits)\n",
    "    last_size = len(dataset) - size*(n_splits-1)\n",
    "    out = random_split(dataset, [size]*(n_splits - 1) + [last_size])\n",
    "    for idx in range(n_splits):\n",
    "        train = torch.utils.data.ConcatDataset([out[i] for i in range(n_splits) if i != idx])\n",
    "        val = out[idx]\n",
    "        splits.append((train, val))\n",
    "        print(f\"Split {idx}: Train: {len(train)}, Val: {len(val)}\")\n",
    "    print()\n",
    "    return splits\n",
    "\n",
    "\n",
    "splits = split_train_cross_val(train_dset)\n",
    "splits_c = split_train_cross_val(train_dset_c)"
   ]
  },
  {
   "cell_type": "markdown",
   "metadata": {},
   "source": [
    "## Training"
   ]
  },
  {
   "cell_type": "code",
   "execution_count": 11,
   "metadata": {},
   "outputs": [
    {
     "name": "stderr",
     "output_type": "stream",
     "text": [
      "GPU available: True (cuda), used: True\n",
      "TPU available: False, using: 0 TPU cores\n",
      "HPU available: False, using: 0 HPUs\n",
      "LOCAL_RANK: 0 - CUDA_VISIBLE_DEVICES: [0]\n",
      "\n",
      "   | Name       | Type             | Params | Mode \n",
      "---------------------------------------------------------\n",
      "0  | conv1      | Conv2d           | 896    | train\n",
      "1  | BatchNorm1 | BatchNorm2d      | 64     | train\n",
      "2  | conv2      | Conv2d           | 18.5 K | train\n",
      "3  | BatchNorm2 | BatchNorm2d      | 128    | train\n",
      "4  | conv3      | Conv2d           | 73.9 K | train\n",
      "5  | BatchNorm3 | BatchNorm2d      | 256    | train\n",
      "6  | maxpool    | MaxPool2d        | 0      | train\n",
      "7  | relu       | ReLU             | 0      | train\n",
      "8  | dropout    | Dropout          | 0      | train\n",
      "9  | flatten    | Flatten          | 0      | train\n",
      "10 | fc1        | Linear           | 3.1 M  | train\n",
      "11 | fc2        | Linear           | 258    | train\n",
      "12 | criterion  | CrossEntropyLoss | 0      | train\n",
      "---------------------------------------------------------\n",
      "3.2 M     Trainable params\n",
      "0         Non-trainable params\n",
      "3.2 M     Total params\n",
      "12.959    Total estimated model params size (MB)\n",
      "13        Modules in train mode\n",
      "0         Modules in eval mode\n"
     ]
    },
    {
     "name": "stdout",
     "output_type": "stream",
     "text": [
      "Training model for fold 0...\n",
      "Epoch 4: 100%|██████████| 95/95 [00:13<00:00,  6.82it/s, v_num=2, train_loss=0.0511, val_loss=0.0181, val_acc=0.996]   \n",
      "New best model found for fold 0 with valid accuracy: 0.9960\n",
      "Training model for fold 1...\n"
     ]
    },
    {
     "name": "stderr",
     "output_type": "stream",
     "text": [
      "GPU available: True (cuda), used: True\n",
      "TPU available: False, using: 0 TPU cores\n",
      "HPU available: False, using: 0 HPUs\n",
      "LOCAL_RANK: 0 - CUDA_VISIBLE_DEVICES: [0]\n"
     ]
    },
    {
     "name": "stdout",
     "output_type": "stream",
     "text": [
      "Epoch 6: 100%|██████████| 95/95 [00:11<00:00,  8.19it/s, v_num=3, train_loss=2.55e-5, val_loss=0.0229, val_acc=0.996] \n",
      "Training model for fold 2...\n"
     ]
    },
    {
     "name": "stderr",
     "output_type": "stream",
     "text": [
      "GPU available: True (cuda), used: True\n",
      "TPU available: False, using: 0 TPU cores\n",
      "HPU available: False, using: 0 HPUs\n",
      "LOCAL_RANK: 0 - CUDA_VISIBLE_DEVICES: [0]\n"
     ]
    },
    {
     "name": "stdout",
     "output_type": "stream",
     "text": [
      "Epoch 8: 100%|██████████| 95/95 [00:13<00:00,  6.80it/s, v_num=4, train_loss=3.01e-5, val_loss=0.00598, val_acc=0.998] \n",
      "New best model found for fold 2 with valid accuracy: 0.9980\n",
      "Training model for fold 3...\n"
     ]
    },
    {
     "name": "stderr",
     "output_type": "stream",
     "text": [
      "GPU available: True (cuda), used: True\n",
      "TPU available: False, using: 0 TPU cores\n",
      "HPU available: False, using: 0 HPUs\n",
      "LOCAL_RANK: 0 - CUDA_VISIBLE_DEVICES: [0]\n"
     ]
    },
    {
     "name": "stdout",
     "output_type": "stream",
     "text": [
      "Epoch 5: 100%|██████████| 95/95 [00:14<00:00,  6.70it/s, v_num=5, train_loss=1.59e-5, val_loss=0.0106, val_acc=0.994]  \n"
     ]
    },
    {
     "name": "stderr",
     "output_type": "stream",
     "text": [
      "GPU available: True (cuda), used: True\n",
      "TPU available: False, using: 0 TPU cores\n",
      "HPU available: False, using: 0 HPUs\n",
      "LOCAL_RANK: 0 - CUDA_VISIBLE_DEVICES: [0]\n"
     ]
    },
    {
     "name": "stdout",
     "output_type": "stream",
     "text": [
      "Training model for fold 4...\n",
      "Epoch 5: 100%|██████████| 95/95 [00:14<00:00,  6.41it/s, v_num=6, train_loss=0.000234, val_loss=0.00736, val_acc=0.996]\n"
     ]
    },
    {
     "name": "stderr",
     "output_type": "stream",
     "text": [
      "GPU available: True (cuda), used: True\n",
      "TPU available: False, using: 0 TPU cores\n",
      "HPU available: False, using: 0 HPUs\n",
      "LOCAL_RANK: 0 - CUDA_VISIBLE_DEVICES: [0]\n"
     ]
    },
    {
     "name": "stdout",
     "output_type": "stream",
     "text": [
      "Training model for fold 5...\n",
      "Epoch 7: 100%|██████████| 95/95 [00:16<00:00,  5.92it/s, v_num=7, train_loss=9.44e-6, val_loss=0.00623, val_acc=0.998] \n",
      "Training model for fold 6...\n"
     ]
    },
    {
     "name": "stderr",
     "output_type": "stream",
     "text": [
      "GPU available: True (cuda), used: True\n",
      "TPU available: False, using: 0 TPU cores\n",
      "HPU available: False, using: 0 HPUs\n",
      "LOCAL_RANK: 0 - CUDA_VISIBLE_DEVICES: [0]\n"
     ]
    },
    {
     "name": "stdout",
     "output_type": "stream",
     "text": [
      "Epoch 4: 100%|██████████| 95/95 [00:15<00:00,  6.26it/s, v_num=8, train_loss=0.000202, val_loss=0.0044, val_acc=0.996] \n"
     ]
    }
   ],
   "source": [
    "best_model_accuracy = 0\n",
    "best_model_path = None\n",
    "\n",
    "for idx, (train_dset, val_dset) in enumerate(splits):\n",
    "    model = CNN2D(input_dim=sample_shape)\n",
    "    \n",
    "    print(f\"Training model for fold {idx}...\")\n",
    "    early_stop_callback = EarlyStopping(monitor='val_acc', patience=3, mode='max')\n",
    "    checkpoint_callback = ModelCheckpoint(monitor='val_acc', mode='max', save_top_k=1, dirpath='model_checkpoints', filename=f'best_model_fold_{idx}')\n",
    "    \n",
    "    trainer = pl.Trainer(\n",
    "        max_epochs=10, \n",
    "        accelerator='gpu',\n",
    "        devices=-1, \n",
    "        callbacks=[early_stop_callback, checkpoint_callback],\n",
    "        enable_model_summary = (False if idx > 0 else True)\n",
    "    )\n",
    "    \n",
    "    trainer.fit(model, DataLoader(train_dset, batch_size=32, shuffle=True), DataLoader(val_dset, batch_size=32, shuffle=False))\n",
    "    \n",
    "    val_acc = trainer.callback_metrics.get('val_acc', 0).item()  # Extract validation accuracy\n",
    "    \n",
    "    if val_acc > best_model_accuracy:\n",
    "        best_split = idx\n",
    "        best_model_accuracy = val_acc\n",
    "        best_model_path = checkpoint_callback.best_model_path\n",
    "        print(f\"New best model found for fold {idx} with valid accuracy: {val_acc:.4f}\")\n"
   ]
  },
  {
   "cell_type": "code",
   "execution_count": 12,
   "metadata": {},
   "outputs": [
    {
     "name": "stderr",
     "output_type": "stream",
     "text": [
      "GPU available: True (cuda), used: True\n",
      "TPU available: False, using: 0 TPU cores\n",
      "HPU available: False, using: 0 HPUs\n",
      "c:\\Users\\miche\\OneDrive\\Desktop\\EQML Project\\CNN-Explainability-on-Earthquakes\\CNN_EQML\\Lib\\site-packages\\pytorch_lightning\\callbacks\\model_checkpoint.py:654: Checkpoint directory C:\\Users\\miche\\OneDrive\\Desktop\\EQML Project\\CNN-Explainability-on-Earthquakes\\training\\model_checkpoints exists and is not empty.\n",
      "LOCAL_RANK: 0 - CUDA_VISIBLE_DEVICES: [0]\n",
      "\n",
      "   | Name       | Type             | Params | Mode \n",
      "---------------------------------------------------------\n",
      "0  | conv1      | Conv2d           | 896    | train\n",
      "1  | BatchNorm1 | BatchNorm2d      | 64     | train\n",
      "2  | conv2      | Conv2d           | 18.5 K | train\n",
      "3  | BatchNorm2 | BatchNorm2d      | 128    | train\n",
      "4  | conv3      | Conv2d           | 73.9 K | train\n",
      "5  | BatchNorm3 | BatchNorm2d      | 256    | train\n",
      "6  | maxpool    | MaxPool2d        | 0      | train\n",
      "7  | relu       | ReLU             | 0      | train\n",
      "8  | dropout    | Dropout          | 0      | train\n",
      "9  | flatten    | Flatten          | 0      | train\n",
      "10 | fc1        | Linear           | 3.1 M  | train\n",
      "11 | fc2        | Linear           | 258    | train\n",
      "12 | criterion  | CrossEntropyLoss | 0      | train\n",
      "---------------------------------------------------------\n",
      "3.2 M     Trainable params\n",
      "0         Non-trainable params\n",
      "3.2 M     Total params\n",
      "12.959    Total estimated model params size (MB)\n",
      "13        Modules in train mode\n",
      "0         Modules in eval mode\n"
     ]
    },
    {
     "name": "stdout",
     "output_type": "stream",
     "text": [
      "Sanity Checking: |          | 0/? [00:00<?, ?it/s]"
     ]
    },
    {
     "name": "stderr",
     "output_type": "stream",
     "text": [
      "c:\\Users\\miche\\OneDrive\\Desktop\\EQML Project\\CNN-Explainability-on-Earthquakes\\CNN_EQML\\Lib\\site-packages\\pytorch_lightning\\trainer\\connectors\\data_connector.py:425: The 'val_dataloader' does not have many workers which may be a bottleneck. Consider increasing the value of the `num_workers` argument` to `num_workers=11` in the `DataLoader` to improve performance.\n"
     ]
    },
    {
     "name": "stdout",
     "output_type": "stream",
     "text": [
      "                                                                           "
     ]
    },
    {
     "name": "stderr",
     "output_type": "stream",
     "text": [
      "c:\\Users\\miche\\OneDrive\\Desktop\\EQML Project\\CNN-Explainability-on-Earthquakes\\CNN_EQML\\Lib\\site-packages\\pytorch_lightning\\trainer\\connectors\\data_connector.py:425: The 'train_dataloader' does not have many workers which may be a bottleneck. Consider increasing the value of the `num_workers` argument` to `num_workers=11` in the `DataLoader` to improve performance.\n"
     ]
    },
    {
     "name": "stdout",
     "output_type": "stream",
     "text": [
      "Epoch 4: 100%|██████████| 92/92 [00:14<00:00,  6.49it/s, v_num=9, train_loss=6.22e-5, val_loss=0.0306, val_acc=0.996] \n"
     ]
    }
   ],
   "source": [
    "train_dset, val_dset = splits_c[best_split]\n",
    "model = CNN2D(input_dim=sample_shape)\n",
    "\n",
    "early_stop_callback = EarlyStopping(monitor='val_acc', patience=3, mode='max')\n",
    "checkpoint_callback = ModelCheckpoint(monitor='val_acc', mode='max', save_top_k=1, dirpath='model_checkpoints', filename=f'best_model_c_fold_{best_split}')\n",
    "\n",
    "trainer = pl.Trainer(\n",
    "    max_epochs=10, \n",
    "    accelerator='gpu',\n",
    "    devices=-1, \n",
    "    callbacks=[early_stop_callback, checkpoint_callback],\n",
    "    enable_model_summary = True\n",
    ")\n",
    "\n",
    "trainer.fit(model, DataLoader(train_dset, batch_size=32, shuffle=True), DataLoader(val_dset, batch_size=32, shuffle=False))\n",
    "\n",
    "best_model_c_path = checkpoint_callback.best_model_path"
   ]
  },
  {
   "cell_type": "code",
   "execution_count": 13,
   "metadata": {},
   "outputs": [
    {
     "name": "stdout",
     "output_type": "stream",
     "text": [
      "Best model: C:\\Users\\miche\\OneDrive\\Desktop\\EQML Project\\CNN-Explainability-on-Earthquakes\\training\\model_checkpoints\\best_model_fold_2.ckpt\n",
      "Best model (with excluded): C:\\Users\\miche\\OneDrive\\Desktop\\EQML Project\\CNN-Explainability-on-Earthquakes\\training\\model_checkpoints\\best_model_c_fold_2.ckpt\n"
     ]
    }
   ],
   "source": [
    "print(f\"Best model: {best_model_path}\")\n",
    "print(f\"Best model (with excluded): {best_model_c_path}\")"
   ]
  },
  {
   "cell_type": "markdown",
   "metadata": {},
   "source": [
    "## Metrics on Test Set"
   ]
  },
  {
   "cell_type": "code",
   "execution_count": null,
   "metadata": {},
   "outputs": [],
   "source": [
    "best_model_path = r\"..\\training\\model_checkpoints\\best_model_fold_2.ckpt\"\n",
    "best_model_c_path = r\"..\\training\\model_checkpoints\\best_model_c_fold_2.ckpt\""
   ]
  },
  {
   "cell_type": "code",
   "execution_count": 7,
   "metadata": {},
   "outputs": [],
   "source": [
    "def compute_test_metrics(model_path, test_dset, input_dim):\n",
    "    model = CNN2D.load_from_checkpoint(model_path, input_dim=input_dim, n_classes=2)\n",
    "    trainer = pl.Trainer(enable_model_summary=False, logger=False, enable_progress_bar=False)\n",
    "    trainer.test(model, test_dset)"
   ]
  },
  {
   "cell_type": "code",
   "execution_count": 8,
   "metadata": {},
   "outputs": [
    {
     "name": "stdout",
     "output_type": "stream",
     "text": [
      "Testing Metrics for Spectrogram dataset:\n"
     ]
    },
    {
     "name": "stderr",
     "output_type": "stream",
     "text": [
      "GPU available: True (cuda), used: True\n",
      "TPU available: False, using: 0 TPU cores\n",
      "HPU available: False, using: 0 HPUs\n",
      "LOCAL_RANK: 0 - CUDA_VISIBLE_DEVICES: [0]\n",
      "c:\\Users\\miche\\OneDrive\\Desktop\\EQML Project\\CNN-Explainability-on-Earthquakes\\CNN_EQML\\Lib\\site-packages\\pytorch_lightning\\trainer\\connectors\\data_connector.py:425: The 'test_dataloader' does not have many workers which may be a bottleneck. Consider increasing the value of the `num_workers` argument` to `num_workers=11` in the `DataLoader` to improve performance.\n"
     ]
    },
    {
     "data": {
      "image/png": "[encoded data removed]",
      "text/plain": [
       "<Figure size 500x500 with 1 Axes>"
      ]
     },
     "metadata": {},
     "output_type": "display_data"
    },
    {
     "name": "stdout",
     "output_type": "stream",
     "text": [
      "Total Accuracy: 0.9966\n",
      "Total Precision: 0.9953\n",
      "Total Recall: 0.9953\n",
      "Total F1 Score: 0.9953\n",
      "Testing Metrics for Spectrogram dataset (without colocated events):\n"
     ]
    },
    {
     "name": "stderr",
     "output_type": "stream",
     "text": [
      "GPU available: True (cuda), used: True\n",
      "TPU available: False, using: 0 TPU cores\n",
      "HPU available: False, using: 0 HPUs\n",
      "LOCAL_RANK: 0 - CUDA_VISIBLE_DEVICES: [0]\n",
      "c:\\Users\\miche\\OneDrive\\Desktop\\EQML Project\\CNN-Explainability-on-Earthquakes\\CNN_EQML\\Lib\\site-packages\\pytorch_lightning\\trainer\\connectors\\data_connector.py:425: The 'test_dataloader' does not have many workers which may be a bottleneck. Consider increasing the value of the `num_workers` argument` to `num_workers=11` in the `DataLoader` to improve performance.\n"
     ]
    },
    {
     "data": {
      "image/png": "[encoded data removed]",
      "text/plain": [
       "<Figure size 500x500 with 1 Axes>"
      ]
     },
     "metadata": {},
     "output_type": "display_data"
    },
    {
     "name": "stdout",
     "output_type": "stream",
     "text": [
      "Total Accuracy: 0.9976\n",
      "Total Precision: 0.9958\n",
      "Total Recall: 0.9979\n",
      "Total F1 Score: 0.9969\n"
     ]
    }
   ],
   "source": [
    "print(\"Testing Metrics for Spectrogram dataset:\")\n",
    "compute_test_metrics(best_model_path, test_data, sample_shape)\n",
    "\n",
    "print(\"Testing Metrics for Spectrogram dataset (without colocated events):\")\n",
    "compute_test_metrics(best_model_c_path, test_data_c, sample_shape)"
   ]
  },
  {
   "cell_type": "markdown",
   "metadata": {},
   "source": [
    "## Preparing Test Dataset for Explainability"
   ]
  },
  {
   "cell_type": "code",
   "execution_count": 12,
   "metadata": {},
   "outputs": [
    {
     "name": "stderr",
     "output_type": "stream",
     "text": [
      "Checking correct samples:  59%|█████▉    | 22/37 [00:03<00:02,  5.74it/s]\n"
     ]
    },
    {
     "name": "stdout",
     "output_type": "stream",
     "text": [
      "Correct aftershock samples: 300\n",
      "Correct foreshock samples: 300\n"
     ]
    },
    {
     "name": "stderr",
     "output_type": "stream",
     "text": [
      "Copying aftershock samples: 100%|██████████| 300/300 [00:18<00:00, 15.90it/s]\n",
      "Copying foreshock samples: 100%|██████████| 300/300 [00:17<00:00, 17.52it/s]\n"
     ]
    }
   ],
   "source": [
    "pick = 300 # Number of correct predicted random samples to pick for each class\n",
    "correct_aftershock_samples = []\n",
    "correct_foreshock_samples = []\n",
    "\n",
    "model = CNN2D.load_from_checkpoint(best_model_path, input_dim=sample_shape, n_classes=2)\n",
    "model.eval()\n",
    "model.to(device)\n",
    "\n",
    "for img, label, trace_name, *_ in tqdm(test_data, desc=\"Checking correct samples\"):\n",
    "    img = img.to(device)\n",
    "    label = label.to(device)\n",
    "    output = model(img)\n",
    "    _, predicted = torch.max(output, 1)\n",
    "    correct = (predicted == label).squeeze()\n",
    "    for i in range(len(correct)):\n",
    "        if correct[i]:\n",
    "            if label[i] == 1:\n",
    "                correct_aftershock_samples.append(trace_name[i])\n",
    "            else:\n",
    "                correct_foreshock_samples.append(trace_name[i])\n",
    "\n",
    "    if len(correct_aftershock_samples) >= pick and len(correct_foreshock_samples) >= pick:\n",
    "        break\n",
    "\n",
    "shuffle(correct_aftershock_samples)\n",
    "shuffle(correct_foreshock_samples)\n",
    "correct_aftershock_samples = correct_aftershock_samples[:pick]\n",
    "correct_foreshock_samples = correct_foreshock_samples[:pick]\n",
    "\n",
    "print(f\"Correct aftershock samples: {len(correct_aftershock_samples)}\")\n",
    "print(f\"Correct foreshock samples: {len(correct_foreshock_samples)}\")\n",
    "\n",
    "\n",
    "output_explain_path = r\"..\\explainability\\samples\\aftershocks\"\n",
    "os.makedirs(output_explain_path, exist_ok=True)\n",
    "for name in tqdm(correct_aftershock_samples, desc=\"Copying aftershock samples\"):\n",
    "    img_path = os.path.join(data_path, name + \".png\")\n",
    "    \n",
    "    # Copy and Paste the image to the output folder\n",
    "    os.system(f\"copy {img_path} {output_explain_path}\")\n",
    "\n",
    "output_explain_path = r\"..\\explainability\\samples\\foreshocks\"\n",
    "os.makedirs(output_explain_path, exist_ok=True)\n",
    "for name in tqdm(correct_foreshock_samples, desc=\"Copying foreshock samples\"):\n",
    "    img_path = os.path.join(data_path, name + \".png\")\n",
    "    \n",
    "    # Copy and Paste the image to the output folder\n",
    "    os.system(f\"copy {img_path} {output_explain_path}\")"
   ]
  }
 ],
 "metadata": {
  "kernelspec": {
   "display_name": "CNN_EQML",
   "language": "python",
   "name": "python3"
  },
  "language_info": {
   "codemirror_mode": {
    "name": "ipython",
    "version": 3
   },
   "file_extension": ".py",
   "mimetype": "text/x-python",
   "name": "python",
   "nbconvert_exporter": "python",
   "pygments_lexer": "ipython3",
   "version": "3.11.9"
  }
 },
 "nbformat": 4,
 "nbformat_minor": 2
}
